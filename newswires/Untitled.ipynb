{
 "cells": [
  {
   "cell_type": "code",
   "execution_count": 5,
   "metadata": {},
   "outputs": [],
   "source": [
    "from keras.datasets import reuters\n",
    "(train_data, train_labels), (test_data, test_labels) = reuters.load_data(\n",
    "num_words=10000)"
   ]
  },
  {
   "cell_type": "code",
   "execution_count": 6,
   "metadata": {},
   "outputs": [
    {
     "data": {
      "text/plain": [
       "[1,\n",
       " 245,\n",
       " 273,\n",
       " 207,\n",
       " 156,\n",
       " 53,\n",
       " 74,\n",
       " 160,\n",
       " 26,\n",
       " 14,\n",
       " 46,\n",
       " 296,\n",
       " 26,\n",
       " 39,\n",
       " 74,\n",
       " 2979,\n",
       " 3554,\n",
       " 14,\n",
       " 46,\n",
       " 4689,\n",
       " 4329,\n",
       " 86,\n",
       " 61,\n",
       " 3499,\n",
       " 4795,\n",
       " 14,\n",
       " 61,\n",
       " 451,\n",
       " 4329,\n",
       " 17,\n",
       " 12]"
      ]
     },
     "execution_count": 6,
     "metadata": {},
     "output_type": "execute_result"
    }
   ],
   "source": [
    "train_data[10]"
   ]
  },
  {
   "cell_type": "code",
   "execution_count": 13,
   "metadata": {},
   "outputs": [
    {
     "name": "stdout",
     "output_type": "stream",
     "text": [
      "? seton co said its board has received a proposal from chairman and chief executive officer philip d ? to acquire seton for 15 75 dlrs per share in cash seton said the acquisition bid is subject to ? arranging the necessary financing it said he intends to ask other members of senior management to participate the company said ? owns 30 pct of seton stock and other management members another 7 5 pct seton said it has formed an independent board committee to consider the offer and has deferred the annual meeting it had scheduled for march 31 reuter 3\n"
     ]
    }
   ],
   "source": [
    "word_index = reuters.get_word_index()\n",
    "reverse_word_index = dict([(value, key) for (key, value) in word_index.items()])\n",
    "decoded_newswire = ' '.join([reverse_word_index.get(i - 3, '?') for i in\n",
    "train_data[4]])\n",
    "print(decoded_newswire)"
   ]
  },
  {
   "cell_type": "code",
   "execution_count": 8,
   "metadata": {},
   "outputs": [
    {
     "data": {
      "text/plain": [
       "3"
      ]
     },
     "execution_count": 8,
     "metadata": {},
     "output_type": "execute_result"
    }
   ],
   "source": [
    "train_labels[10]"
   ]
  },
  {
   "cell_type": "code",
   "execution_count": 14,
   "metadata": {},
   "outputs": [],
   "source": [
    "import numpy as np\n",
    "def vectorize_sequences(sequences, dimension=10000):\n",
    "    results = np.zeros((len(sequences), dimension))\n",
    "    for i, sequence in enumerate(sequences):\n",
    "        results[i, sequence] = 1.\n",
    "    return results\n",
    "x_train = vectorize_sequences(train_data)\n",
    "x_test = vectorize_sequences(test_data)"
   ]
  },
  {
   "cell_type": "code",
   "execution_count": 16,
   "metadata": {},
   "outputs": [],
   "source": [
    "def to_one_hot(labels, dimension=46):\n",
    "    results = np.zeros((len(labels), dimension))\n",
    "    for i, label in enumerate(labels):\n",
    "        results[i, label] = 1.\n",
    "    return results\n",
    "one_hot_train_labels = to_one_hot(train_labels)\n",
    "one_hot_test_labels = to_one_hot(test_labels)"
   ]
  },
  {
   "cell_type": "code",
   "execution_count": 17,
   "metadata": {},
   "outputs": [],
   "source": [
    "from keras.utils.np_utils import to_categorical\n",
    "one_hot_train_labels = to_categorical(train_labels)\n",
    "one_hot_test_labels = to_categorical(test_labels)"
   ]
  },
  {
   "cell_type": "code",
   "execution_count": 25,
   "metadata": {},
   "outputs": [],
   "source": [
    "from keras import models\n",
    "from keras import layers\n",
    "model = models.Sequential()\n",
    "model.add(layers.Dense(128, activation='relu', input_shape=(10000,)))\n",
    "model.add(layers.Dense(128, activation='relu'))\n",
    "model.add(layers.Dense(128, activation='relu'))\n",
    "model.add(layers.Dense(46, activation='softmax'))"
   ]
  },
  {
   "cell_type": "code",
   "execution_count": 26,
   "metadata": {},
   "outputs": [],
   "source": [
    "model.compile(optimizer='rmsprop',\n",
    "loss='categorical_crossentropy',\n",
    "metrics=['accuracy'])"
   ]
  },
  {
   "cell_type": "code",
   "execution_count": 27,
   "metadata": {},
   "outputs": [],
   "source": [
    "x_val = x_train[:1000]\n",
    "partial_x_train = x_train[1000:]\n",
    "y_val = one_hot_train_labels[:1000]\n",
    "partial_y_train = one_hot_train_labels[1000:]"
   ]
  },
  {
   "cell_type": "code",
   "execution_count": 28,
   "metadata": {},
   "outputs": [
    {
     "name": "stdout",
     "output_type": "stream",
     "text": [
      "Train on 7982 samples, validate on 1000 samples\n",
      "Epoch 1/20\n",
      "7982/7982 [==============================] - 2s 262us/step - loss: 2.2840 - accuracy: 0.5016 - val_loss: 1.4766 - val_accuracy: 0.6630\n",
      "Epoch 2/20\n",
      "7982/7982 [==============================] - 2s 222us/step - loss: 1.2055 - accuracy: 0.7261 - val_loss: 1.1441 - val_accuracy: 0.7420\n",
      "Epoch 3/20\n",
      "7982/7982 [==============================] - 2s 227us/step - loss: 0.8686 - accuracy: 0.8012 - val_loss: 1.1346 - val_accuracy: 0.7410\n",
      "Epoch 4/20\n",
      "7982/7982 [==============================] - 2s 219us/step - loss: 0.6273 - accuracy: 0.8543 - val_loss: 1.0008 - val_accuracy: 0.7860\n",
      "Epoch 5/20\n",
      "7982/7982 [==============================] - 2s 222us/step - loss: 0.4603 - accuracy: 0.8970 - val_loss: 0.9270 - val_accuracy: 0.8070\n",
      "Epoch 6/20\n",
      "7982/7982 [==============================] - 2s 234us/step - loss: 0.3340 - accuracy: 0.9271 - val_loss: 1.0263 - val_accuracy: 0.7890\n",
      "Epoch 7/20\n",
      "7982/7982 [==============================] - 2s 226us/step - loss: 0.2950 - accuracy: 0.9303 - val_loss: 0.9641 - val_accuracy: 0.8070\n",
      "Epoch 8/20\n",
      "7982/7982 [==============================] - 2s 218us/step - loss: 0.2026 - accuracy: 0.9488 - val_loss: 1.2388 - val_accuracy: 0.7420\n",
      "Epoch 9/20\n",
      "7982/7982 [==============================] - 2s 221us/step - loss: 0.2006 - accuracy: 0.9469 - val_loss: 1.0062 - val_accuracy: 0.8080\n",
      "Epoch 10/20\n",
      "7982/7982 [==============================] - 2s 220us/step - loss: 0.1741 - accuracy: 0.9529 - val_loss: 1.0075 - val_accuracy: 0.8050\n",
      "Epoch 11/20\n",
      "7982/7982 [==============================] - 2s 254us/step - loss: 0.1591 - accuracy: 0.9555 - val_loss: 1.0268 - val_accuracy: 0.8060\n",
      "Epoch 12/20\n",
      "7982/7982 [==============================] - 2s 242us/step - loss: 0.1439 - accuracy: 0.9538 - val_loss: 1.1073 - val_accuracy: 0.7890\n",
      "Epoch 13/20\n",
      "7982/7982 [==============================] - 2s 236us/step - loss: 0.1376 - accuracy: 0.9555 - val_loss: 1.1339 - val_accuracy: 0.7980\n",
      "Epoch 14/20\n",
      "7982/7982 [==============================] - 2s 235us/step - loss: 0.1296 - accuracy: 0.9577 - val_loss: 1.1950 - val_accuracy: 0.7830\n",
      "Epoch 15/20\n",
      "7982/7982 [==============================] - 2s 231us/step - loss: 0.1230 - accuracy: 0.9572 - val_loss: 1.0954 - val_accuracy: 0.7890\n",
      "Epoch 16/20\n",
      "7982/7982 [==============================] - 2s 247us/step - loss: 0.1269 - accuracy: 0.9541 - val_loss: 1.1172 - val_accuracy: 0.7930\n",
      "Epoch 17/20\n",
      "7982/7982 [==============================] - 2s 247us/step - loss: 0.1108 - accuracy: 0.9539 - val_loss: 1.0939 - val_accuracy: 0.8040\n",
      "Epoch 18/20\n",
      "7982/7982 [==============================] - 2s 253us/step - loss: 0.1050 - accuracy: 0.9577 - val_loss: 1.1606 - val_accuracy: 0.8000\n",
      "Epoch 19/20\n",
      "7982/7982 [==============================] - 2s 225us/step - loss: 0.1036 - accuracy: 0.9582 - val_loss: 1.1622 - val_accuracy: 0.8000\n",
      "Epoch 20/20\n",
      "7982/7982 [==============================] - 2s 217us/step - loss: 0.1035 - accuracy: 0.9562 - val_loss: 1.1591 - val_accuracy: 0.7890\n"
     ]
    }
   ],
   "source": [
    "history = model.fit(partial_x_train,\n",
    "partial_y_train,\n",
    "epochs=20,\n",
    "batch_size=512,\n",
    "validation_data=(x_val, y_val))"
   ]
  },
  {
   "cell_type": "code",
   "execution_count": 22,
   "metadata": {},
   "outputs": [
    {
     "data": {
      "image/png": "[encoded data removed]",
      "text/plain": [
       "<Figure size 432x288 with 1 Axes>"
      ]
     },
     "metadata": {
      "needs_background": "light"
     },
     "output_type": "display_data"
    }
   ],
   "source": [
    "import matplotlib.pyplot as plt\n",
    "loss = history.history['loss']\n",
    "val_loss = history.history['val_loss']\n",
    "epochs = range(1, len(loss) + 1)\n",
    "plt.plot(epochs, loss, 'bo', label='Training loss')\n",
    "plt.plot(epochs, val_loss, 'b', label='Validation loss')\n",
    "plt.title('Training and validation loss')\n",
    "plt.xlabel('Epochs')\n",
    "plt.ylabel('Loss')\n",
    "plt.legend()\n",
    "plt.show()"
   ]
  },
  {
   "cell_type": "code",
   "execution_count": 23,
   "metadata": {},
   "outputs": [
    {
     "ename": "KeyError",
     "evalue": "'acc'",
     "output_type": "error",
     "traceback": [
      "\u001b[1;31m---------------------------------------------------------------------------\u001b[0m",
      "\u001b[1;31mKeyError\u001b[0m                                  Traceback (most recent call last)",
      "\u001b[1;32m<ipython-input-23-7f0c3cdf3410>\u001b[0m in \u001b[0;36m<module>\u001b[1;34m\u001b[0m\n\u001b[0;32m      1\u001b[0m \u001b[0mplt\u001b[0m\u001b[1;33m.\u001b[0m\u001b[0mclf\u001b[0m\u001b[1;33m(\u001b[0m\u001b[1;33m)\u001b[0m\u001b[1;33m\u001b[0m\u001b[1;33m\u001b[0m\u001b[0m\n\u001b[1;32m----> 2\u001b[1;33m \u001b[0macc\u001b[0m \u001b[1;33m=\u001b[0m \u001b[0mhistory\u001b[0m\u001b[1;33m.\u001b[0m\u001b[0mhistory\u001b[0m\u001b[1;33m[\u001b[0m\u001b[1;34m'acc'\u001b[0m\u001b[1;33m]\u001b[0m\u001b[1;33m\u001b[0m\u001b[1;33m\u001b[0m\u001b[0m\n\u001b[0m\u001b[0;32m      3\u001b[0m \u001b[0mval_acc\u001b[0m \u001b[1;33m=\u001b[0m \u001b[0mhistory\u001b[0m\u001b[1;33m.\u001b[0m\u001b[0mhistory\u001b[0m\u001b[1;33m[\u001b[0m\u001b[1;34m'val_acc'\u001b[0m\u001b[1;33m]\u001b[0m\u001b[1;33m\u001b[0m\u001b[1;33m\u001b[0m\u001b[0m\n\u001b[0;32m      4\u001b[0m \u001b[0mplt\u001b[0m\u001b[1;33m.\u001b[0m\u001b[0mplot\u001b[0m\u001b[1;33m(\u001b[0m\u001b[0mepochs\u001b[0m\u001b[1;33m,\u001b[0m \u001b[0macc\u001b[0m\u001b[1;33m,\u001b[0m \u001b[1;34m'bo'\u001b[0m\u001b[1;33m,\u001b[0m \u001b[0mlabel\u001b[0m\u001b[1;33m=\u001b[0m\u001b[1;34m'Training acc'\u001b[0m\u001b[1;33m)\u001b[0m\u001b[1;33m\u001b[0m\u001b[1;33m\u001b[0m\u001b[0m\n\u001b[0;32m      5\u001b[0m \u001b[0mplt\u001b[0m\u001b[1;33m.\u001b[0m\u001b[0mplot\u001b[0m\u001b[1;33m(\u001b[0m\u001b[0mepochs\u001b[0m\u001b[1;33m,\u001b[0m \u001b[0mval_acc\u001b[0m\u001b[1;33m,\u001b[0m \u001b[1;34m'b'\u001b[0m\u001b[1;33m,\u001b[0m \u001b[0mlabel\u001b[0m\u001b[1;33m=\u001b[0m\u001b[1;34m'Validation acc'\u001b[0m\u001b[1;33m)\u001b[0m\u001b[1;33m\u001b[0m\u001b[1;33m\u001b[0m\u001b[0m\n",
      "\u001b[1;31mKeyError\u001b[0m: 'acc'"
     ]
    },
    {
     "data": {
      "text/plain": [
       "<Figure size 432x288 with 0 Axes>"
      ]
     },
     "metadata": {},
     "output_type": "display_data"
    }
   ],
   "source": [
    "plt.clf()\n",
    "acc = history.history['acc']\n",
    "val_acc = history.history['val_acc']\n",
    "plt.plot(epochs, acc, 'bo', label='Training acc')\n",
    "plt.plot(epochs, val_acc, 'b', label='Validation acc')\n",
    "plt.title('Training and validation accuracy')\n",
    "plt.xlabel('Epochs')\n",
    "plt.ylabel('Loss')\n",
    "plt.legend()\n",
    "plt.show()"
   ]
  },
  {
   "cell_type": "code",
   "execution_count": 24,
   "metadata": {},
   "outputs": [
    {
     "name": "stdout",
     "output_type": "stream",
     "text": [
      "Train on 7982 samples, validate on 1000 samples\n",
      "Epoch 1/9\n",
      "7982/7982 [==============================] - 2s 220us/step - loss: 2.6136 - accuracy: 0.5371 - val_loss: 1.7157 - val_accuracy: 0.6370\n",
      "Epoch 2/9\n",
      "7982/7982 [==============================] - 2s 209us/step - loss: 1.4013 - accuracy: 0.7108 - val_loss: 1.2860 - val_accuracy: 0.7260\n",
      "Epoch 3/9\n",
      "7982/7982 [==============================] - 1s 176us/step - loss: 1.0286 - accuracy: 0.7833 - val_loss: 1.1174 - val_accuracy: 0.7490\n",
      "Epoch 4/9\n",
      "7982/7982 [==============================] - 1s 182us/step - loss: 0.8071 - accuracy: 0.8275 - val_loss: 1.0093 - val_accuracy: 0.7870\n",
      "Epoch 5/9\n",
      "7982/7982 [==============================] - 1s 184us/step - loss: 0.6385 - accuracy: 0.8656 - val_loss: 0.9519 - val_accuracy: 0.8040\n",
      "Epoch 6/9\n",
      "7982/7982 [==============================] - 1s 181us/step - loss: 0.5086 - accuracy: 0.8939 - val_loss: 0.9015 - val_accuracy: 0.8110\n",
      "Epoch 7/9\n",
      "7982/7982 [==============================] - 2s 227us/step - loss: 0.4116 - accuracy: 0.9139 - val_loss: 0.9060 - val_accuracy: 0.8110\n",
      "Epoch 8/9\n",
      "7982/7982 [==============================] - 2s 206us/step - loss: 0.3364 - accuracy: 0.9268 - val_loss: 0.8947 - val_accuracy: 0.8110\n",
      "Epoch 9/9\n",
      "7982/7982 [==============================] - 2s 198us/step - loss: 0.2788 - accuracy: 0.9392 - val_loss: 0.8945 - val_accuracy: 0.8250\n",
      "2246/2246 [==============================] - 0s 171us/step\n"
     ]
    }
   ],
   "source": [
    "model = models.Sequential()\n",
    "model.add(layers.Dense(64, activation='relu', input_shape=(10000,)))\n",
    "model.add(layers.Dense(64, activation='relu'))\n",
    "model.add(layers.Dense(46, activation='softmax'))\n",
    "model.compile(optimizer='rmsprop',\n",
    "loss='categorical_crossentropy',\n",
    "metrics=['accuracy'])\n",
    "model.fit(partial_x_train,\n",
    "partial_y_train,\n",
    "epochs=9,\n",
    "batch_size=512,\n",
    "validation_data=(x_val, y_val))\n",
    "results = model.evaluate(x_test, one_hot_test_labels)"
   ]
  },
  {
   "cell_type": "code",
   "execution_count": null,
   "metadata": {},
   "outputs": [],
   "source": []
  }
 ],
 "metadata": {
  "kernelspec": {
   "display_name": "Python 3.8.2 64-bit",
   "language": "python",
   "name": "python38264bit2092b732094249e18a66993eca2aac31"
  },
  "language_info": {
   "codemirror_mode": {
    "name": "ipython",
    "version": 3
   },
   "file_extension": ".py",
   "mimetype": "text/x-python",
   "name": "python",
   "nbconvert_exporter": "python",
   "pygments_lexer": "ipython3",
   "version": "3.8.2"
  }
 },
 "nbformat": 4,
 "nbformat_minor": 4
}
